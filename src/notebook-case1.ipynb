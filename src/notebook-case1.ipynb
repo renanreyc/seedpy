{
 "cells": [
  {
   "cell_type": "code",
   "execution_count": 1,
   "metadata": {},
   "outputs": [
    {
     "data": {
      "text/plain": [
       "True"
      ]
     },
     "execution_count": 1,
     "metadata": {},
     "output_type": "execute_result"
    }
   ],
   "source": [
    "import os\n",
    "from dotenv import load_dotenv\n",
    "\n",
    "import pandas as pd\n",
    "import numpy as np\n",
    "import datetime\n",
    "\n",
    "import pyodbc\n",
    "\n",
    "from faker import Faker\n",
    "from faker.providers import internet\n",
    "import random\n",
    "\n",
    "load_dotenv()\n"
   ]
  },
  {
   "cell_type": "code",
   "execution_count": 2,
   "metadata": {},
   "outputs": [],
   "source": [
    "fake = Faker(['pt_BR'])\n",
    "fake.add_provider(internet)\n",
    "\n",
    "from util.fake_generator import FakeGenerator\n",
    "fakegen = FakeGenerator(fake)"
   ]
  },
  {
   "cell_type": "code",
   "execution_count": null,
   "metadata": {},
   "outputs": [],
   "source": [
    "file_name = ''\n",
    "df = pd.read_excel(f'../data/{file_name}')\n",
    "df.head(5)"
   ]
  },
  {
   "cell_type": "code",
   "execution_count": null,
   "metadata": {},
   "outputs": [],
   "source": [
    "qtd_linhas = len(df.index)\n",
    "qtd_linhas"
   ]
  },
  {
   "cell_type": "code",
   "execution_count": null,
   "metadata": {},
   "outputs": [],
   "source": [
    "coluna_ref = 'Criado em'\n",
    "df[coluna_ref] = pd.to_datetime(df[coluna_ref])\n",
    "\n",
    "# df['ano'] = df[coluna_ref].dt.to_period('Y')\n",
    "df['ano_mes'] = df[coluna_ref].dt.to_period('M')\n",
    "distribuicao_mensal = df['ano_mes'].value_counts().sort_index()\n",
    "distribuicao_mensal"
   ]
  },
  {
   "cell_type": "code",
   "execution_count": null,
   "metadata": {},
   "outputs": [],
   "source": [
    "date_columns = ['']\n",
    "\n",
    "for column in date_columns:\n",
    "    new_column_name = 'delta_' + column\n",
    "    df[new_column_name] = df[column] - df[coluna_ref]\n",
    "\n",
    "    media_delta = df[new_column_name].mean()\n",
    "    max_delta = df[new_column_name].max()\n",
    "    min_delta = df[new_column_name].min()\n",
    "    print(f'### Coluna: {column} ###')\n",
    "    print(f\"Média do tempo delta: {media_delta}\")\n",
    "    print(f\"Máximo tempo delta: {max_delta}\")\n",
    "    print(f\"Mínimo tempo delta: {min_delta} \\n\")"
   ]
  },
  {
   "cell_type": "code",
   "execution_count": null,
   "metadata": {},
   "outputs": [],
   "source": [
    "df.head(5)"
   ]
  },
  {
   "cell_type": "markdown",
   "metadata": {},
   "source": [
    "## Fake generate"
   ]
  },
  {
   "cell_type": "code",
   "execution_count": 7,
   "metadata": {},
   "outputs": [],
   "source": [
    "random.seed(42)\n",
    "\n",
    "columns = [\n",
    "    \n",
    "]"
   ]
  },
  {
   "cell_type": "code",
   "execution_count": 37,
   "metadata": {},
   "outputs": [],
   "source": [
    "data = []\n",
    "for _ in range(qtd_linhas):\n",
    "    resolver_group = random.choice(['GRUPO 1', 'GRUPO 2', 'GRUPO INTERNO','GRUPO INTERNO'])\n",
    "\n",
    "    created_date = fake.date_time_between(start_date=datetime.date(2022,1,1), end_date=datetime.date(2022,10,31))\n",
    "\n",
    "    due_date = created_date + datetime.timedelta(days=10)\n",
    "\n",
    "    update_date = random.choice([None,None,None, created_date + fakegen.gen_random_day_time(40)])\n",
    "\n",
    "    check_update = update_date if update_date else created_date\n",
    "    end_date = random.choice([None, check_update + fakegen.gen_random_day_time(10), check_update + fakegen.gen_random_day_time(100)])\n",
    "\n",
    "    company = random.choice(['EMPRESA 3','EMPRESA 2','EMPRESA 1','EMPRESA 4'])\n",
    "\n",
    "    data.append([resolver_group, created_date, due_date, update_date, end_date, company])"
   ]
  },
  {
   "cell_type": "code",
   "execution_count": null,
   "metadata": {},
   "outputs": [],
   "source": [
    "df_fake = pd.DataFrame(data, columns=columns)\n",
    "df_fake.head(5)"
   ]
  },
  {
   "cell_type": "code",
   "execution_count": null,
   "metadata": {},
   "outputs": [],
   "source": [
    "df_fake['ano_mes'] = df_fake['Criado em'].dt.to_period('M')\n",
    "distribuicao_mensal = df_fake['ano_mes'].value_counts().sort_index()\n",
    "distribuicao_mensal"
   ]
  },
  {
   "cell_type": "code",
   "execution_count": null,
   "metadata": {},
   "outputs": [],
   "source": [
    "new_df = pd.merge(df, df_fake, left_index=True, right_index=True)\n",
    "new_df.head(5)\n"
   ]
  },
  {
   "cell_type": "code",
   "execution_count": null,
   "metadata": {},
   "outputs": [],
   "source": [
    "# tratando nomes\n",
    "prefix = 'delta_'\n",
    "suffix = '_x'\n",
    "persist_columns = [column for column in new_df.columns if not column.startswith(prefix)]\n",
    "persist_columns = [column for column in persist_columns if not column.endswith(suffix)]\n",
    "new_df = new_df[persist_columns]\n",
    "\n",
    "try:\n",
    "    del new_df['ano_mes_y']\n",
    "except:\n",
    "    pass\n",
    "\n",
    "new_df = new_df.rename(columns=lambda column: column.replace('_y', '') if column.endswith('_y') else column)\n",
    "new_df.head(5)"
   ]
  },
  {
   "cell_type": "code",
   "execution_count": 42,
   "metadata": {},
   "outputs": [],
   "source": [
    "new_df = new_df.reset_index(drop=True)\n",
    "new_df.to_excel('../data/', index=None)"
   ]
  },
  {
   "cell_type": "markdown",
   "metadata": {},
   "source": [
    "## Enriquecendo df"
   ]
  },
  {
   "cell_type": "code",
   "execution_count": 111,
   "metadata": {},
   "outputs": [],
   "source": [
    "new_df.rename(columns={''\n",
    "\n",
    "}, inplace=True)\n",
    "\n",
    "datenow = datetime.datetime.now()\n",
    "firstdayofmonth = datetime.datetime(datenow.year, datenow.month, 1)\n",
    "new_df['DATA_REF'] = firstdayofmonth\n",
    "new_df['DATA_CARGA'] = datenow\n",
    "\n",
    "new_df['NOME_ARQUIVO'] = file_name"
   ]
  }
 ],
 "metadata": {
  "kernelspec": {
   "display_name": "venv",
   "language": "python",
   "name": "python3"
  },
  "language_info": {
   "codemirror_mode": {
    "name": "ipython",
    "version": 3
   },
   "file_extension": ".py",
   "mimetype": "text/x-python",
   "name": "python",
   "nbconvert_exporter": "python",
   "pygments_lexer": "ipython3",
   "version": "3.10.4"
  }
 },
 "nbformat": 4,
 "nbformat_minor": 2
}
