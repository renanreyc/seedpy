{
 "cells": [
  {
   "cell_type": "code",
   "execution_count": 1,
   "metadata": {},
   "outputs": [
    {
     "data": {
      "text/plain": [
       "True"
      ]
     },
     "execution_count": 1,
     "metadata": {},
     "output_type": "execute_result"
    }
   ],
   "source": [
    "import os\n",
    "from dotenv import load_dotenv\n",
    "\n",
    "import pandas as pd\n",
    "import numpy as np\n",
    "import datetime\n",
    "\n",
    "import pyodbc\n",
    "from sqlalchemy import create_engine\n",
    "\n",
    "from faker import Faker\n",
    "from faker.providers import internet\n",
    "import random\n",
    "\n",
    "load_dotenv()\n"
   ]
  },
  {
   "cell_type": "code",
   "execution_count": 53,
   "metadata": {},
   "outputs": [],
   "source": [
    "fake = Faker(['pt_BR'])\n",
    "fake.add_provider(internet)\n",
    "\n",
    "from util.fake_generator import FakeGenerator\n",
    "fakegen = FakeGenerator(fake)\n",
    "\n",
    "date_now = datetime.datetime.now()"
   ]
  },
  {
   "cell_type": "code",
   "execution_count": null,
   "metadata": {},
   "outputs": [],
   "source": [
    "file_name = 'FAKE.xlsx'\n",
    "df = pd.read_excel(f'../data/processados/{file_name}')\n",
    "df.head(5)"
   ]
  },
  {
   "cell_type": "code",
   "execution_count": null,
   "metadata": {},
   "outputs": [],
   "source": [
    "qtd_linhas = len(df.index)\n",
    "qtd_linhas"
   ]
  },
  {
   "cell_type": "code",
   "execution_count": null,
   "metadata": {},
   "outputs": [],
   "source": [
    "coluna_ref = 'Created at'\n",
    "df[coluna_ref] = pd.to_datetime(df[coluna_ref])\n",
    "\n",
    "# df['ano'] = df[coluna_ref].dt.to_period('Y')\n",
    "df['ano_mes'] = df[coluna_ref].dt.to_period('M')\n",
    "distribuicao_mensal = df['ano_mes'].value_counts().sort_index()\n",
    "distribuicao_mensal"
   ]
  },
  {
   "cell_type": "code",
   "execution_count": null,
   "metadata": {},
   "outputs": [],
   "source": [
    "date_columns = []\n",
    "\n",
    "for column in date_columns:\n",
    "    new_column_name = 'delta_' + column\n",
    "    df[new_column_name] = pd.to_datetime(df[column]) - df[coluna_ref]\n",
    "\n",
    "    media_delta = df[new_column_name].mean()\n",
    "    max_delta = df[new_column_name].max()\n",
    "    min_delta = df[new_column_name].min()\n",
    "    print(f'### Coluna: {column} ###')\n",
    "    print(f\"Média do tempo delta: {media_delta}\")\n",
    "    print(f\"Máximo tempo delta: {max_delta}\")\n",
    "    print(f\"Mínimo tempo delta: {min_delta} \\n\")"
   ]
  },
  {
   "cell_type": "code",
   "execution_count": 9,
   "metadata": {},
   "outputs": [
    {
     "data": {
      "text/html": [
       "<div>\n",
       "<style scoped>\n",
       "    .dataframe tbody tr th:only-of-type {\n",
       "        vertical-align: middle;\n",
       "    }\n",
       "\n",
       "    .dataframe tbody tr th {\n",
       "        vertical-align: top;\n",
       "    }\n",
       "\n",
       "    .dataframe thead th {\n",
       "        text-align: right;\n",
       "    }\n",
       "</style>\n",
       "<table border=\"1\" class=\"dataframe\">\n",
       "  <thead>\n",
       "    <tr style=\"text-align: right;\">\n",
       "      <th></th>\n",
       "      <th>NEW_ID</th>\n",
       "      <th>ID</th>\n",
       "      <th>Created at</th>\n",
       "      <th>Data de Criação Ajustado</th>\n",
       "      <th>Finished at</th>\n",
       "      <th>Due date</th>\n",
       "      <th>Nome da empresa</th>\n",
       "      <th>Tempo de Conclusão</th>\n",
       "      <th>Creator</th>\n",
       "      <th>Current phase</th>\n",
       "      <th>Quantidade de itens baixados</th>\n",
       "      <th>ano_mes</th>\n",
       "      <th>delta_Data de Criação Ajustado</th>\n",
       "      <th>delta_Finished at</th>\n",
       "      <th>delta_Due date</th>\n",
       "    </tr>\n",
       "  </thead>\n",
       "  <tbody>\n",
       "    <tr>\n",
       "      <th>0</th>\n",
       "      <td>204904985</td>\n",
       "      <td>554904985</td>\n",
       "      <td>2022-07-18 17:38:05.497</td>\n",
       "      <td>NaT</td>\n",
       "      <td>2022-07-18 18:45:05.764</td>\n",
       "      <td>NaN</td>\n",
       "      <td>Agrichem</td>\n",
       "      <td>NaN</td>\n",
       "      <td>Gisele de França Mello</td>\n",
       "      <td>Concluído</td>\n",
       "      <td>NaN</td>\n",
       "      <td>2022-07</td>\n",
       "      <td>NaT</td>\n",
       "      <td>0 days 01:07:00.267000</td>\n",
       "      <td>NaT</td>\n",
       "    </tr>\n",
       "    <tr>\n",
       "      <th>1</th>\n",
       "      <td>205979919</td>\n",
       "      <td>555979919</td>\n",
       "      <td>2022-07-20 19:32:23.510</td>\n",
       "      <td>NaT</td>\n",
       "      <td>2022-07-20 21:00:31.758</td>\n",
       "      <td>NaN</td>\n",
       "      <td>Agrichem</td>\n",
       "      <td>NaN</td>\n",
       "      <td>Gisele de França Mello</td>\n",
       "      <td>Concluído</td>\n",
       "      <td>NaN</td>\n",
       "      <td>2022-07</td>\n",
       "      <td>NaT</td>\n",
       "      <td>0 days 01:28:08.248000</td>\n",
       "      <td>NaT</td>\n",
       "    </tr>\n",
       "    <tr>\n",
       "      <th>2</th>\n",
       "      <td>207953107</td>\n",
       "      <td>557953107</td>\n",
       "      <td>2022-07-26 13:11:50.788</td>\n",
       "      <td>NaT</td>\n",
       "      <td>2022-07-26 14:06:05.285</td>\n",
       "      <td>NaN</td>\n",
       "      <td>Agrichem</td>\n",
       "      <td>NaN</td>\n",
       "      <td>Pipebot</td>\n",
       "      <td>Concluído</td>\n",
       "      <td>NaN</td>\n",
       "      <td>2022-07</td>\n",
       "      <td>NaT</td>\n",
       "      <td>0 days 00:54:14.497000</td>\n",
       "      <td>NaT</td>\n",
       "    </tr>\n",
       "    <tr>\n",
       "      <th>3</th>\n",
       "      <td>203501193</td>\n",
       "      <td>563501193</td>\n",
       "      <td>2022-08-09 16:51:56.537</td>\n",
       "      <td>NaT</td>\n",
       "      <td>NaT</td>\n",
       "      <td>NaN</td>\n",
       "      <td>Nutrien Útilfértil</td>\n",
       "      <td>NaN</td>\n",
       "      <td>Usuário Integração RPA Accenture - Pipefy</td>\n",
       "      <td>Descarte</td>\n",
       "      <td>NaN</td>\n",
       "      <td>2022-08</td>\n",
       "      <td>NaT</td>\n",
       "      <td>NaT</td>\n",
       "      <td>NaT</td>\n",
       "    </tr>\n",
       "    <tr>\n",
       "      <th>4</th>\n",
       "      <td>203529793</td>\n",
       "      <td>563529793</td>\n",
       "      <td>2022-08-09 17:52:57.708</td>\n",
       "      <td>NaT</td>\n",
       "      <td>NaT</td>\n",
       "      <td>NaN</td>\n",
       "      <td>Nutrien Útilfértil</td>\n",
       "      <td>NaN</td>\n",
       "      <td>Usuário Integração RPA Accenture - Pipefy</td>\n",
       "      <td>Descarte</td>\n",
       "      <td>NaN</td>\n",
       "      <td>2022-08</td>\n",
       "      <td>NaT</td>\n",
       "      <td>NaT</td>\n",
       "      <td>NaT</td>\n",
       "    </tr>\n",
       "  </tbody>\n",
       "</table>\n",
       "</div>"
      ],
      "text/plain": [
       "      NEW_ID         ID              Created at Data de Criação Ajustado  \\\n",
       "0  204904985  554904985 2022-07-18 17:38:05.497                      NaT   \n",
       "1  205979919  555979919 2022-07-20 19:32:23.510                      NaT   \n",
       "2  207953107  557953107 2022-07-26 13:11:50.788                      NaT   \n",
       "3  203501193  563501193 2022-08-09 16:51:56.537                      NaT   \n",
       "4  203529793  563529793 2022-08-09 17:52:57.708                      NaT   \n",
       "\n",
       "              Finished at  Due date     Nome da empresa  Tempo de Conclusão  \\\n",
       "0 2022-07-18 18:45:05.764       NaN            Agrichem                 NaN   \n",
       "1 2022-07-20 21:00:31.758       NaN            Agrichem                 NaN   \n",
       "2 2022-07-26 14:06:05.285       NaN            Agrichem                 NaN   \n",
       "3                     NaT       NaN  Nutrien Útilfértil                 NaN   \n",
       "4                     NaT       NaN  Nutrien Útilfértil                 NaN   \n",
       "\n",
       "                                     Creator Current phase  \\\n",
       "0                     Gisele de França Mello     Concluído   \n",
       "1                     Gisele de França Mello     Concluído   \n",
       "2                                    Pipebot     Concluído   \n",
       "3  Usuário Integração RPA Accenture - Pipefy      Descarte   \n",
       "4  Usuário Integração RPA Accenture - Pipefy      Descarte   \n",
       "\n",
       "   Quantidade de itens baixados  ano_mes delta_Data de Criação Ajustado  \\\n",
       "0                           NaN  2022-07                            NaT   \n",
       "1                           NaN  2022-07                            NaT   \n",
       "2                           NaN  2022-07                            NaT   \n",
       "3                           NaN  2022-08                            NaT   \n",
       "4                           NaN  2022-08                            NaT   \n",
       "\n",
       "       delta_Finished at delta_Due date  \n",
       "0 0 days 01:07:00.267000            NaT  \n",
       "1 0 days 01:28:08.248000            NaT  \n",
       "2 0 days 00:54:14.497000            NaT  \n",
       "3                    NaT            NaT  \n",
       "4                    NaT            NaT  "
      ]
     },
     "execution_count": 9,
     "metadata": {},
     "output_type": "execute_result"
    }
   ],
   "source": [
    "df.head(5)"
   ]
  },
  {
   "cell_type": "markdown",
   "metadata": {},
   "source": [
    "## Fake generate"
   ]
  },
  {
   "cell_type": "code",
   "execution_count": 24,
   "metadata": {},
   "outputs": [],
   "source": [
    "random.seed(42)\n",
    "\n",
    "columns = [\n",
    "   \n",
    "]"
   ]
  },
  {
   "cell_type": "code",
   "execution_count": null,
   "metadata": {},
   "outputs": [],
   "source": [
    "df_filted = df[df['Current phase'] != 'Concluído']\n",
    "seed_phase = df_filted['Current phase'].unique()\n",
    "seed_phase"
   ]
  },
  {
   "cell_type": "code",
   "execution_count": null,
   "metadata": {},
   "outputs": [],
   "source": [
    "created_date = fake.date_time_between(start_date=datetime.date(2020,1,1), end_date=datetime.date(2023,10,31))\n",
    "\n",
    "end_date = random.choice([None, None,created_date + fakegen.gen_random_day_time(10), created_date + fakegen.gen_random_day_time(100)])\n",
    "\n",
    "due_date = random.choice([created_date + datetime.timedelta(days=15), None])\n",
    "print(due_date)\n",
    "print(end_date)\n",
    "print(end_date < due_date)\n",
    "\n"
   ]
  },
  {
   "cell_type": "code",
   "execution_count": 54,
   "metadata": {},
   "outputs": [],
   "source": [
    "data = []\n",
    "for _ in range(3000):\n",
    "    id = f\"20{str(fake.unique.random_int(min=1000000, max=9999999))}\"\n",
    "    \n",
    "    created_date = fake.date_time_between(start_date=datetime.date(2020,1,1), end_date=datetime.date(2023,10,31))\n",
    "\n",
    "    end_date = random.choice([None, None,created_date + fakegen.gen_random_day_time(10), created_date + fakegen.gen_random_day_time(100)])\n",
    "    \n",
    "    due_date = random.choice([created_date + datetime.timedelta(days=15), None])\n",
    "\n",
    "    if due_date == None:\n",
    "        in_due = random.choice([True, False]) \n",
    "    elif end_date != None: \n",
    "        in_due = end_date < due_date\n",
    "    else:\n",
    "        in_due = date_now < due_date\n",
    "    \n",
    "    \n",
    "    company_name = fake.company()\n",
    "    \n",
    "    conclusion_time = ((end_date - created_date).days * 24 * 3600 + (end_date - created_date).seconds) / 3600 if end_date is not None else None    \n",
    "\n",
    "    creator = random.choice(['Usuário', 'Chatbot', fake.ascii_company_email()])\n",
    "\n",
    "    current_phase = 'Concluído' if end_date != None else random.choice(seed_phase)\n",
    "\n",
    "    number_downloaded_items = random.choice([1, fake.random_int(min=1, max=110)])\n",
    "\n",
    "    is_abroad = random.choice(['Nacional', 'Nacional', 'Internacional'])\n",
    "    \n",
    "    data.append([id, created_date, end_date, due_date, in_due, company_name, conclusion_time, creator,current_phase, number_downloaded_items, is_abroad])\n"
   ]
  },
  {
   "cell_type": "code",
   "execution_count": null,
   "metadata": {},
   "outputs": [],
   "source": [
    "df_fake = pd.DataFrame(data, columns=columns)\n",
    "df_fake.head(10)"
   ]
  },
  {
   "cell_type": "code",
   "execution_count": 56,
   "metadata": {},
   "outputs": [],
   "source": [
    "year_current = date_now.year\n",
    "month_current = date_now.month"
   ]
  },
  {
   "cell_type": "code",
   "execution_count": 57,
   "metadata": {},
   "outputs": [],
   "source": [
    "df_fake = df_fake.reset_index(drop=True)\n",
    "df_fake.to_excel(f'../data/{month_current}.{year_current}.xlsx', index=None)"
   ]
  },
  {
   "cell_type": "code",
   "execution_count": 58,
   "metadata": {},
   "outputs": [
    {
     "data": {
      "text/plain": [
       "540"
      ]
     },
     "execution_count": 58,
     "metadata": {},
     "output_type": "execute_result"
    }
   ],
   "source": [
    "df_purge = df_fake.head(int((len(df_fake.index)) * (fake.random_int(10,20) / 100)))\n",
    "len(df_purge.index)"
   ]
  },
  {
   "cell_type": "code",
   "execution_count": null,
   "metadata": {},
   "outputs": [],
   "source": [
    "df_purge = df_purge[['ID', 'Nome da empresa']].drop_duplicates()\n",
    "df_purge.head(5)"
   ]
  },
  {
   "cell_type": "code",
   "execution_count": 62,
   "metadata": {},
   "outputs": [],
   "source": [
    "df_purge.to_excel(f'../data/{month_current}.{year_current}.xlsx', index=None)"
   ]
  }
 ],
 "metadata": {
  "kernelspec": {
   "display_name": "venv",
   "language": "python",
   "name": "python3"
  },
  "language_info": {
   "codemirror_mode": {
    "name": "ipython",
    "version": 3
   },
   "file_extension": ".py",
   "mimetype": "text/x-python",
   "name": "python",
   "nbconvert_exporter": "python",
   "pygments_lexer": "ipython3",
   "version": "3.10.4"
  }
 },
 "nbformat": 4,
 "nbformat_minor": 2
}
