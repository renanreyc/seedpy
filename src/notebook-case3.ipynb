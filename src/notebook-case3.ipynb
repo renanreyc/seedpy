{
 "cells": [
  {
   "cell_type": "code",
   "execution_count": 27,
   "metadata": {},
   "outputs": [
    {
     "data": {
      "text/plain": [
       "True"
      ]
     },
     "execution_count": 27,
     "metadata": {},
     "output_type": "execute_result"
    }
   ],
   "source": [
    "import os\n",
    "from dotenv import load_dotenv\n",
    "\n",
    "import pandas as pd\n",
    "import numpy as np\n",
    "import re\n",
    "import datetime\n",
    "\n",
    "import pyodbc\n",
    "from sqlalchemy import create_engine\n",
    "\n",
    "from faker import Faker\n",
    "from faker.providers import internet\n",
    "import random\n",
    "\n",
    "load_dotenv()"
   ]
  },
  {
   "cell_type": "code",
   "execution_count": 17,
   "metadata": {},
   "outputs": [],
   "source": [
    "fake = Faker(['pt_BR'])\n",
    "fake.add_provider(internet)\n",
    "\n",
    "from util.fake_generator import FakeGenerator\n",
    "fakegen = FakeGenerator(fake)\n",
    "\n",
    "date_now = datetime.datetime.now()"
   ]
  },
  {
   "cell_type": "code",
   "execution_count": null,
   "metadata": {},
   "outputs": [],
   "source": [
    "file_name = ''\n",
    "df = pd.read_excel(f'../data/')\n",
    "df.head(5)"
   ]
  },
  {
   "cell_type": "code",
   "execution_count": null,
   "metadata": {},
   "outputs": [],
   "source": [
    "qtd_linhas = len(df.index)\n",
    "print(qtd_linhas)\n",
    "df.columns"
   ]
  },
  {
   "cell_type": "code",
   "execution_count": null,
   "metadata": {},
   "outputs": [],
   "source": [
    "df_purge = pd.DataFrame()\n",
    "\n",
    "coluna_ref = 'data'\n",
    "df_purge[coluna_ref] = pd.to_datetime(df[coluna_ref])\n",
    "\n",
    "# df['ano'] = df[coluna_ref].dt.to_period('Y')\n",
    "df_purge['ano_mes'] = df_purge[coluna_ref].dt.to_period('M')\n",
    "distribuicao_mensal = df_purge['ano_mes'].value_counts().sort_index()\n",
    "distribuicao_mensal"
   ]
  },
  {
   "cell_type": "code",
   "execution_count": null,
   "metadata": {},
   "outputs": [],
   "source": [
    "date_columns = []\n",
    "\n",
    "for column in date_columns:\n",
    "    new_column_name = 'delta_' + column\n",
    "    df_purge[column] = df[column]\n",
    "    df_purge[new_column_name] = pd.to_datetime(df[column]) - df[coluna_ref]\n",
    "\n",
    "    media_delta = df_purge[new_column_name].mean()\n",
    "    max_delta = df_purge[new_column_name].max()\n",
    "    min_delta = df_purge[new_column_name].min()\n",
    "    count_empty = df_purge[column].count()\n",
    "    print(f'### Coluna: {column} ###')\n",
    "    print(f\"Média do tempo delta: {media_delta}\")\n",
    "    print(f\"Máximo tempo delta: {max_delta}\")\n",
    "    print(f\"Mínimo tempo delta: {min_delta}\")\n",
    "    print(f\"Qtd de valores preenchidos: {count_empty} \\n\")"
   ]
  },
  {
   "cell_type": "code",
   "execution_count": null,
   "metadata": {},
   "outputs": [],
   "source": [
    "df.head(5)"
   ]
  },
  {
   "cell_type": "code",
   "execution_count": 83,
   "metadata": {},
   "outputs": [],
   "source": [
    "df_faker = df.copy(deep=True)"
   ]
  },
  {
   "cell_type": "code",
   "execution_count": 84,
   "metadata": {},
   "outputs": [],
   "source": [
    "random.seed(42)"
   ]
  },
  {
   "cell_type": "code",
   "execution_count": 85,
   "metadata": {},
   "outputs": [],
   "source": [
    "def remove_nan(array):\n",
    "    return np.array([x for x in array if x is not np.nan])\n",
    "\n",
    "def generate_date_fake(row, column_name, column_ref):\n",
    "    if pd.notna(row[column_name]):\n",
    "        return row[column_name]\n",
    "    else:\n",
    "        return random.choice([row[column_ref] + fakegen.gen_random_day_time(0), row[column_ref] + fakegen.gen_random_day_time(0)])\n",
    "\n",
    "\n",
    "padroes = {\n",
    "    \n",
    "    'inventário': re.compile(r'invent[ãaáàâäão]rio+', flags=re.IGNORECASE),\n",
    "    'provisão': re.compile(r'provis[ãaáàâäão]+', flags=re.IGNORECASE),\n",
    "    'obsoleto': re.compile(r'obsolet[oa]+', flags=re.IGNORECASE)\n",
    "}\n",
    "\n",
    "def encontrar_palavra(texto):\n",
    "    if pd.notna(texto):\n",
    "        for palavra, padrao in padroes.items():\n",
    "            if padrao.search(texto):\n",
    "                return palavra\n",
    "    return None"
   ]
  },
  {
   "cell_type": "code",
   "execution_count": null,
   "metadata": {},
   "outputs": [],
   "source": [
    "df_faker['LANCAMENTOS'] = df_faker['Descrição / Justificativa'].apply(encontrar_palavra)\n",
    "df_faker['LANCAMENTOS'].value_counts()"
   ]
  },
  {
   "cell_type": "code",
   "execution_count": 87,
   "metadata": {},
   "outputs": [],
   "source": [
    "# TITULO\n",
    "map_replace = {'': fake.company(), '': fake.company(), \n",
    "               '': fake.company(), '': fake.company(), '': fake.company(), '': fake.company()\n",
    "               }\n",
    "for key in map_replace:\n",
    "    new_value = map_replace[key]\n",
    "    df_faker[''] = df_faker[''].str.replace(key, new_value, regex=False)\n",
    "\n",
    "# CODIGO\n",
    "seed_account = df_faker[''].unique()\n",
    "map_account = {value: f\"20{str(fake.unique.random_int(min=1000, max=9999))}\" for value in seed_account}\n",
    "df_faker[''] = df_faker[''].map(map_account)\n",
    "\n",
    "# FASE ATUAL\n",
    "df_faker['Fase atual'] = df_faker['Fase atual'].replace({'': '', \n",
    "                                                         '': ''})\n",
    "\n",
    "# CRIADOR \n",
    "seed_creator = df_faker['Criador'].unique()\n",
    "map_creator = {value: fake.ascii_company_email()  for value in seed_creator}\n",
    "map_creator['Usuário'] = 'Usuário'\n",
    "del map_creator['Pipebot']\n",
    "df_faker['Criador'] = df_faker['Criador'].map(map_creator)\n",
    "\n",
    "# DESCRICAO / JUSTIFICATIVA\n",
    "seed_description = remove_nan(df_faker['Descrição / Justificativa'].unique())\n",
    "map_description = {value: fake.paragraph( variable_nb_sentences=True, ext_word_list=['abc', 'def', 'ghi', 'jkl']) for value in seed_description}\n",
    "df_faker['Descrição / Justificativa'] = df_faker['Descrição / Justificativa'].map(map_description)\n",
    "\n",
    "# OBSERVAÇÃO\n",
    "seed_observation = remove_nan(df_faker['Observação'].unique())\n",
    "map_observation = {value: fake.paragraph( variable_nb_sentences=True, ext_word_list=['abc', 'def', 'ghi', 'jkl']) for value in seed_observation}\n",
    "df_faker['Observação'] = df_faker['Observação'].map(map_observation)\n",
    "\n",
    "# Datas Aprovação do Coordenador\n",
    "df_faker['Primeira vez'] = df_faker.apply(lambda row: generate_date_fake(row, column_name='', \n",
    "                                                                                                                         column_ref=''), axis=1)\n",
    "df_faker['Última vez'] = df_faker.apply(lambda row: generate_date_fake(row, column_name='', \n",
    "                                                                                                                     column_ref=''), axis=1)"
   ]
  },
  {
   "cell_type": "code",
   "execution_count": 90,
   "metadata": {},
   "outputs": [],
   "source": [
    "year_current = date_now.year\n",
    "month_current = date_now.month\n",
    "\n",
    "df_faker = df_faker.reset_index(drop=True)\n",
    "df_faker.to_excel(f'../data/{month_current}.{year_current}.xlsx', index=None)"
   ]
  }
 ],
 "metadata": {
  "kernelspec": {
   "display_name": "venv",
   "language": "python",
   "name": "python3"
  },
  "language_info": {
   "codemirror_mode": {
    "name": "ipython",
    "version": 3
   },
   "file_extension": ".py",
   "mimetype": "text/x-python",
   "name": "python",
   "nbconvert_exporter": "python",
   "pygments_lexer": "ipython3",
   "version": "3.10.4"
  }
 },
 "nbformat": 4,
 "nbformat_minor": 2
}
